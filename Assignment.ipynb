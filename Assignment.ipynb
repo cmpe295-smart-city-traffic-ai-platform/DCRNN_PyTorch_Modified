{
  "nbformat": 4,
  "nbformat_minor": 0,
  "metadata": {
    "colab": {
      "provenance": [],
      "gpuType": "T4"
    },
    "kernelspec": {
      "name": "python3",
      "display_name": "Python 3"
    },
    "language_info": {
      "name": "python"
    },
    "accelerator": "GPU",
    "gpuClass": "standard"
  },
  "cells": [
    {
      "cell_type": "code",
      "source": [
        "# cloning the repo, installing dependencies, and downloading the datasets\n",
        "!git clone https://github.com/mehulbhuradia/DCRNN_PyTorch\n",
        "%cd DCRNN_PyTorch\n",
        "!git checkout mehul\n",
        "!pip install -r requirements.txt\n",
        "%mkdir -p data/METR-LA\n",
        "%cd data\n",
        "!wget --no-check-certificate -P data/ -O metr-la.h5 \"https://drive.google.com/uc?export=download&id=1Xp_lEfaRD9gHPwRcEL7NrVWF_NfvbVTs\"\n",
        "%cd .."
      ],
      "metadata": {
        "id": "nEA400zmxwNM"
      },
      "execution_count": null,
      "outputs": []
    },
    {
      "cell_type": "code",
      "source": [
        "# generate training data for selected sensors\n",
        "!python generate_training_data_2023.py\n",
        "# generate adjecency matrix for selected sensors\n",
        "!python -m scripts.gen_adj_mx  --sensor_ids_filename=data/METR-LA/sensor_ids.txt --normalized_k=0.1\\\n",
        "    --output_pkl_filename=data/sensor_graph/adj_mx.pkl"
      ],
      "metadata": {
        "id": "RDTU1DBji6Jq"
      },
      "execution_count": null,
      "outputs": []
    },
    {
      "cell_type": "code",
      "source": [
        "# train model\n",
        "# to continue training from an old model, edit the dcrnn_la.yaml\n",
        "!python dcrnn_train_pytorch.py --config_filename=data/model/dcrnn_la.yaml"
      ],
      "metadata": {
        "id": "FszdCsYKVgvL"
      },
      "execution_count": null,
      "outputs": []
    },
    {
      "cell_type": "markdown",
      "source": [
        "**Values from the paper**\n",
        "\n",
        "---\n",
        "\n",
        "\n",
        "15 min:\n",
        "MAE 2.77\n",
        "RMSE 5.38\n",
        "MAPE 7.3%\n",
        "\n",
        "---\n",
        "\n",
        "\n",
        "30 min:\n",
        "MAE 3.15\n",
        "RMSE 6.45\n",
        "MAPE 8.8%\n",
        "\n",
        "---\n",
        "\n",
        "\n",
        "1 hour:\n",
        "MAE 3.60\n",
        "RMSE 7.59\n",
        "MAPE 10.5%"
      ],
      "metadata": {
        "id": "S8XLjLALtAcI"
      }
    },
    {
      "cell_type": "code",
      "source": [
        "# change the epoch number to the epoch you want, and save model to the DCRNN_PyTorch/models folder.(create the folder if you dont train)\n",
        "!python run_demo_pytorch.py --config_filename=config_2023.yaml"
      ],
      "metadata": {
        "id": "YtvQTn7oTyEa"
      },
      "execution_count": null,
      "outputs": []
    },
    {
      "cell_type": "code",
      "source": [
        "import matplotlib.pyplot as plt\n",
        "\n",
        "log_file = 'logs/info.log'\n",
        "\n",
        "epochs = []\n",
        "val_mae_values = []\n",
        "\n",
        "with open(log_file, 'r') as f:\n",
        "  for line in f: \n",
        "    if 'val_mae' in line:\n",
        "      epochs.append(int(line.split('Epoch [')[1].split('/100]')[0]))\n",
        "      val_mae_values.append(float(line.split('val_mae: ')[1].split(',')[0]))\n",
        "\n",
        "print(val_mae_values)\n",
        "plt.plot(val_mae_values)\n",
        "plt.xlabel('Epoch')\n",
        "plt.ylabel('Validation MAE')\n",
        "plt.title('Learning Curve')\n",
        "plt.show()\n"
      ],
      "metadata": {
        "id": "gB2iMzj0CqTM"
      },
      "execution_count": null,
      "outputs": []
    }
  ]
}