{
  "cells": [
    {
      "cell_type": "code",
      "execution_count": null,
      "metadata": {
        "id": "nEA400zmxwNM"
      },
      "outputs": [],
      "source": [
        "# cloning the repo, installing dependencies, and downloading the datasets\n",
        "!git clone https://github.com/mehulbhuradia/DCRNN_PyTorch\n",
        "%cd DCRNN_PyTorch\n",
        "!git checkout mehul\n",
        "!pip install -r requirements.txt\n",
        "%mkdir -p data/METR-LA\n",
        "%cd data\n",
        "!wget --no-check-certificate -P data/ -O metr-la.h5 \"https://drive.google.com/uc?export=download&id=1Xp_lEfaRD9gHPwRcEL7NrVWF_NfvbVTs\"\n",
        "%cd .."
      ]
    },
    {
      "cell_type": "code",
      "execution_count": null,
      "metadata": {
        "id": "RDTU1DBji6Jq"
      },
      "outputs": [],
      "source": [
        "# generate training data for selected sensors\n",
        "!python generate_training_data_2023.py\n",
        "# generate adjecency matrix for selected sensors\n",
        "!python -m scripts.gen_adj_mx  --sensor_ids_filename=data/METR-LA/sensor_ids.txt --normalized_k=0.1\\\n",
        "    --output_pkl_filename=data/sensor_graph/adj_mx.pkl"
      ]
    },
    {
      "cell_type": "code",
      "execution_count": null,
      "metadata": {
        "id": "FszdCsYKVgvL"
      },
      "outputs": [],
      "source": [
        "# train model\n",
        "# to continue training from an old model, edit the dcrnn_la.yaml\n",
        "!python dcrnn_train_pytorch.py --config_filename=data/model/dcrnn_la.yaml"
      ]
    },
    {
      "cell_type": "markdown",
      "metadata": {
        "id": "S8XLjLALtAcI"
      },
      "source": [
        "**Values from the paper**\n",
        "\n",
        "---\n",
        "\n",
        "\n",
        "15 min:\n",
        "MAE 2.77\n",
        "RMSE 5.38\n",
        "MAPE 7.3%\n",
        "\n",
        "---\n",
        "\n",
        "\n",
        "30 min:\n",
        "MAE 3.15\n",
        "RMSE 6.45\n",
        "MAPE 8.8%\n",
        "\n",
        "---\n",
        "\n",
        "\n",
        "1 hour:\n",
        "MAE 3.60\n",
        "RMSE 7.59\n",
        "MAPE 10.5%"
      ]
    },
    {
      "cell_type": "code",
      "execution_count": null,
      "metadata": {
        "id": "YtvQTn7oTyEa"
      },
      "outputs": [],
      "source": [
        "# change the epoch number to the epoch you want, and save model to the DCRNN_PyTorch/models folder.(create the folder if you dont train)\n",
        "!python run_demo_pytorch.py --config_filename=config_2023.yaml"
      ]
    },
    {
      "cell_type": "code",
      "execution_count": null,
      "metadata": {
        "id": "gB2iMzj0CqTM"
      },
      "outputs": [],
      "source": [
        "import matplotlib.pyplot as plt\n",
        "\n",
        "log_file = 'logs/info.log'\n",
        "\n",
        "val_mae_values = []\n",
        "\n",
        "with open(log_file, 'r') as f:\n",
        "  for line in f: \n",
        "    if 'val_mae' in line:\n",
        "      val_mae_values.append(float(line.split('val_mae: ')[1].split(',')[0]))\n",
        "\n",
        "print(val_mae_values)\n",
        "plt.plot(val_mae_values)\n",
        "plt.xlabel('Epoch')\n",
        "plt.ylabel('Validation MAE')\n",
        "plt.title('Learning Curve')\n",
        "plt.show()\n"
      ]
    }
  ],
  "metadata": {
    "accelerator": "GPU",
    "colab": {
      "gpuType": "T4",
      "provenance": []
    },
    "gpuClass": "standard",
    "kernelspec": {
      "display_name": "Python 3",
      "name": "python3"
    },
    "language_info": {
      "name": "python"
    }
  },
  "nbformat": 4,
  "nbformat_minor": 0
}
